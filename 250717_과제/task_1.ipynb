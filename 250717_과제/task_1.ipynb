{
 "cells": [
  {
   "cell_type": "markdown",
   "metadata": {},
   "source": [
    "안녕하세요. 수강생 여러분~! Chapter33 ~ 41 수업은 잘 들으셨나요?\n",
    "\n",
    "Chapter33 ~ 41의 수업 내용을 바탕으로 아래 문제를 풀어주시면 됩니다.\n",
    "\n",
    "\n",
    "<br>\n",
    "\n",
    "\n",
    "[**답변 입력 방법**]\n",
    "\n",
    "문제 아래에 있는 코드 입력창에 정답코드를 작성하신 후  __▷ 버튼을 클릭해 코드를 실행__ 해보세요<br>"
   ]
  },
  {
   "cell_type": "markdown",
   "metadata": {},
   "source": [
    "---"
   ]
  },
  {
   "cell_type": "markdown",
   "metadata": {},
   "source": [
    "[문제 1]\n",
    "\n",
    "사용자로부터 두 개의 숫자를 입력받아 나눗셈을 수행하는 프로그램을 작성하세요. \n",
    "\n",
    "[예외처리]\n",
    "- 입력 값이 숫자가 아닐 때 발생할 수 있는 ValueError\n",
    "- 나누는 수가 0일 때 발생할 수 있는 ZeroDivisionError\n",
    "- 위 2가지 예외처리 후 사용자에게 이해하기 쉬운 메시지 작성 후 출력되도록 코드를 작성"
   ]
  },
  {
   "cell_type": "code",
   "execution_count": null,
   "metadata": {},
   "outputs": [
    {
     "ename": "",
     "evalue": "",
     "output_type": "error",
     "traceback": [
      "\u001b[1;31m'Python 3.11.9'(으)로 셀을 실행하려면 ipykernel 패키지가 필요합니다.\n",
      "\u001b[1;31m필요한 패키지를 사용하여 <a href='command:jupyter.createPythonEnvAndSelectController'>Python 환경 만들기</a>\n",
      "\u001b[1;31m또는 다음 명령을 사용하여 'ipykernel'을(를) 설치합니다. 'c:/Users/knifo/AppData/Local/Microsoft/WindowsApps/python3.11.exe -m pip install ipykernel -U --user --force-reinstall'"
     ]
    }
   ],
   "source": [
    "try :\n",
    "    input1 = int(input(\"1번 숫자를 입력해주세요.\"))\n",
    "    input2 = int(input(\"2번 숫자를 입력해주세요.\"))\n",
    "    if input2 ==0:\n",
    "           print(\"나누는 수가 0입니다.\")\n",
    "           pass\n",
    "    print(input1/input2)\n",
    "except :\n",
    "    print(\"입력 값 오류입니다.\")\n",
    "\n",
    "#위와 같이 직접 작성 했지만, if문의 0에러와 하단 에러문이 같이 출력되는 문제가 발생.\n",
    "#답안을 보고 에러 해결 모듈이 있음을 다시 배움\n",
    "\n",
    "try:\n",
    "    input1 = int(input(\"1번 숫자를 입력해주세요: \"))\n",
    "    input2 = int(input(\"2번 숫자를 입력해주세요: \"))\n",
    "    \n",
    "    result = input1 / input2\n",
    "    print(\"나눗셈 결과:\", result)\n",
    "\n",
    "except ValueError:\n",
    "    print(\"숫자만 입력해주세요.\")\n",
    "\n",
    "except ZeroDivisionError:\n",
    "    print(\"0으로 나눌 수 없습니다.\")"
   ]
  },
  {
   "cell_type": "markdown",
   "metadata": {},
   "source": [
    "---"
   ]
  },
  {
   "cell_type": "markdown",
   "metadata": {},
   "source": [
    "[문제 2]\n",
    "\n",
    "파일을 읽어서 내용을 출력하는 프로그램을 작성하세요. \n",
    "\n",
    "- 파일이 존재하지 않을 때 발생하는 FileNotFoundError를 처리\n",
    "- 파일이 존재하지 않을 경우 \"파일을 찾을 수 없습니다.\"라는 메시지를 출력"
   ]
  },
  {
   "cell_type": "code",
   "execution_count": null,
   "metadata": {},
   "outputs": [],
   "source": [
    "with open('test.txt', 'r') as f:\n",
    "    print(f.read)\n",
    "except FileExistsError:\n",
    "    print(\"파일을 찾을 수 없습니다.\")"
   ]
  },
  {
   "cell_type": "markdown",
   "metadata": {},
   "source": [
    "---"
   ]
  },
  {
   "cell_type": "markdown",
   "metadata": {},
   "source": [
    "[문제 3]\n",
    "\n",
    "사용자로부터 여러 개의 숫자를 입력받아 리스트에 저장한 후, 사용자가 'done'이라고 입력할 때까지 계속 입력받으세요. \n",
    "\n",
    "- 입력 중 숫자가 아닌 값이 입력되면 ValueError를 처리\n",
    "- 숫자 외 값이 입력된 경우 어떤 값이 잘못 입력되었는지 사용자에게 알려주는 문구 출력<br>\n",
    "  (예: f\"잘못된 값: {변수}. 숫자를 입력해주세요.\")\n",
    "\n"
   ]
  },
  {
   "cell_type": "code",
   "execution_count": null,
   "metadata": {},
   "outputs": [],
   "source": [
    "lst = []\n",
    "\n",
    "def lstinput():\n",
    "    while True:\n",
    "        userinput = input(\"숫자를 입력하세요. 입력을 완료하면 'done'을 입력하세요: \")\n",
    "        \n",
    "        if userinput.lower() == \"done\": #본래는 userinput = done으로 했었는데 GPT가 대소문자 불구분을 위해 이쪽을 추천해줬고 납득했습니다.\n",
    "            break\n",
    "        \n",
    "        try:\n",
    "            num = int(userinput)\n",
    "            lst.append(num)\n",
    "        except ValueError:\n",
    "            print(f\"잘못된 값: {userinput}. 숫자를 입력해주세요.\")\n",
    "\n",
    "    return lst"
   ]
  },
  {
   "cell_type": "markdown",
   "metadata": {},
   "source": [
    "---"
   ]
  },
  {
   "cell_type": "markdown",
   "metadata": {},
   "source": [
    "[문제 4]\n",
    "\n",
    "사용자 정의 예외 NegativeNumberError를 생성하고, 사용자로부터 숫자를 입력받아 음수일 경우 NegativeNumberError를 발생시키는 프로그램을 작성하세요. \n",
    "\n",
    "- 예외 처리 구문을 사용하여 음수 입력 시 \"양수를 입력해주세요.\"라는 메시지를 출력"
   ]
  },
  {
   "cell_type": "code",
   "execution_count": null,
   "metadata": {},
   "outputs": [],
   "source": [
    "class NegativeNumberError(Exception):\n",
    "    pass\n",
    "def checkNagative(i):\n",
    "    if i < 0:\n",
    "        raise NegativeNumberError\n",
    "\n",
    "while True:\n",
    "    userinput = input(\"숫자를 입력하세요. 입력을 완료하면 'done'을 입력하세요: \")\n",
    "    if userinput.lower() == \"done\":\n",
    "        break\n",
    "\n",
    "    try:\n",
    "        num = int(userinput)\n",
    "        checkNagative(num)\n",
    "        print(\"입력한 숫자:\", num)\n",
    "\n",
    "    except NegativeNumberError:\n",
    "        print(\"양수를 입력해주세요.\")\n",
    "    except ValueError:\n",
    "        print(\"숫자만 입력해주세요.\")\n",
    "\n",
    "#NegativeNumberError를 따로 함수 모듈로 구분 안해도 작동하네요."
   ]
  },
  {
   "cell_type": "markdown",
   "metadata": {},
   "source": [
    "---"
   ]
  },
  {
   "cell_type": "markdown",
   "metadata": {},
   "source": [
    "[문제 5]\n",
    "\n",
    "datetime 모듈을 사용하여 현재 날짜와 시간을 출력하는 프로그램을 작성하세요. \n",
    "\n",
    "또한, 사용자로부터 태어난 년도를 입력받아 현재 나이를 계산하여 출력하세요."
   ]
  },
  {
   "cell_type": "code",
   "execution_count": null,
   "metadata": {},
   "outputs": [],
   "source": [
    "import datetime\n",
    "\n",
    "now = datetime.datetime.now()\n",
    "print(now.year, \"년\")\n",
    "print(now.month, \"월달\")\n",
    "print(now.day, \"일\")\n",
    "print(now.hour, \"시\")\n",
    "print(now.minute, \"분\")\n",
    "print(now.second, \"초\")\n",
    "\n",
    "def userinput():\n",
    "    useryear = input(\"태어난 연도를 숫자로 입력하세요: \")\n",
    "    \n",
    "    try:\n",
    "        byear = int(useryear)\n",
    "        age = now.year - byear\n",
    "        print(f\"당신의 나이는 {age}살입니다.\")\n",
    "    except ValueError:\n",
    "        print(f\"잘못된 입력: {useryear}. 숫자로 입력해주세요.\")\n",
    "\n",
    "userinput()"
   ]
  },
  {
   "cell_type": "markdown",
   "metadata": {},
   "source": [
    "---"
   ]
  },
  {
   "cell_type": "markdown",
   "metadata": {},
   "source": [
    "[문제 6]\n",
    "\n",
    "requests 모듈을 사용하여, 웹 페이지의 HTML을 가져오는 간단한 웹 스크레이퍼를 작성하세요.\n",
    "\n",
    "'https://kream.co.kr/'에서<br> \n",
    "데이터를 가져와서 상태 코드와 HTML의 첫 100자를 출력하세요.<br>\n",
    "(실습 전 requests 모듈을 설치해야 함)"
   ]
  },
  {
   "cell_type": "code",
   "execution_count": null,
   "metadata": {},
   "outputs": [],
   "source": [
    "request 모듈 설치에 실패했습니다.\n",
    "우선 이후에 풀게용"
   ]
  },
  {
   "cell_type": "markdown",
   "metadata": {},
   "source": [
    "---"
   ]
  },
  {
   "cell_type": "markdown",
   "metadata": {},
   "source": [
    "[문제 7]\n",
    "\n",
    "함수 실행 시간을 측정하는 데코레이터 timer_decorator를 작성하세요. \n",
    "\n",
    "임의의 함수가 실행되는 시간을 측정하여 \"함수 실행 시간: x.xx초\" 형태로 출력하세요."
   ]
  },
  {
   "cell_type": "code",
   "execution_count": null,
   "metadata": {},
   "outputs": [],
   "source": [
    "@time_decorator\n",
    "def timecount(i):\n",
    "    time.sleep(i)\n",
    "    print(f\"함수 실행 시간: {i}초\")\n",
    "\n",
    "#여기까지 작성하다 모르겠어서 답지와 GPT해설을 봄 : 아직 데코레이터 개념에 대해 잘 이해하지 못한거같음\n",
    "import time #time 모듈을 가져오기.\n",
    "\n",
    "def timer_decorator(func): #함수선언\n",
    "    def wrapper(*args, **kwargs): #*args는 다수의 index인자를 튜플로 받고, **kargs는 다수의 키워드 인자를 딕셔너리로 받음. 에러를 방지하기 좋은 입력\n",
    "        start = time.time() #start에 시작 시간 저장.\n",
    "        result = func(*args, **kwargs) #timecount에 인자 전달.\n",
    "        end = time.time() #종료시간을 end에 저장.\n",
    "        print(f\"함수 실행 시간: {end - start:}초\")\n",
    "        return result #(result값을 반환해서 외부로 전달)\n",
    "    return wrapper\n",
    "\n",
    "@timer_decorator\n",
    "def timecount(i):\n",
    "    time.sleep(i)\n",
    "    print(f\"{i}초 동안 sleep 실행됨\")\n",
    "\n",
    "timecount(2)"
   ]
  },
  {
   "cell_type": "markdown",
   "metadata": {},
   "source": [
    "---"
   ]
  },
  {
   "cell_type": "markdown",
   "metadata": {},
   "source": [
    "[문제 8]\n",
    "\n",
    "여러분이 자주 사용하는 수학적 연산<br>\n",
    "(예: 삼각형 넓이, 원의 넓이, 직육면체의 넓이)을 수행하는 함수들을 포함하는 mymath.py라는 이름의 모듈을 만드세요. \n",
    "\n",
    "이 모듈을 사용하여 작성된 함수들을 실제로 임포트하고 사용하는 간단한 프로그램을 작성하세요."
   ]
  },
  {
   "cell_type": "code",
   "execution_count": null,
   "metadata": {},
   "outputs": [],
   "source": [
    "import math\n",
    "\n",
    "#삼각형 넓이\n",
    "def triM(밑면, 높이):\n",
    "    return 0.5 * 밑면 * 높이\n",
    "\n",
    "#원의 넓이\n",
    "def cirM(반지름):\n",
    "    return math.pi * (반지름 ** 2)\n",
    "    \n",
    "#직육면체 넓이\n",
    "def cubM(x, y, z):\n",
    "    return 2 * (x*y + y*z + x*z)"
   ]
  },
  {
   "cell_type": "code",
   "execution_count": null,
   "metadata": {},
   "outputs": [],
   "source": [
    "import mymath\n",
    "\n",
    "numbers = [1, 2, 3, 4, 5]\n",
    "\n",
    "triM(3, 10)\n",
    "print(\"삼각형의 넓이:\", triM(밑면, 높이))\n",
    "\n",
    "cirM(4)\n",
    "print(\"원의 넓이:\", cirM(반지름)\n",
    "\n",
    "cubM(5, 10, 4)\n",
    "print(\"직육면체 넓이:\", cubM(x, y, z))"
   ]
  },
  {
   "cell_type": "markdown",
   "metadata": {},
   "source": [
    "---"
   ]
  },
  {
   "cell_type": "markdown",
   "metadata": {},
   "source": [
    "[문제 9]\n",
    "\n",
    "animals라는 패키지를 만들고, 이 패키지 내에 mammals, birds라는 두 개의 서브 모듈을 생성하세요. \n",
    "\n",
    "- 각 모듈에는 최소한 한 개 이상의 동물에 관한 클래스를 정의하세요<br>\n",
    "  (예: mammals에는 Dog, birds에는 Eagle)\n",
    "- 이 패키지와 모듈을 사용하여 동물들의 정보를 출력하는 프로그램을 작성\n",
    "\n",
    "폴더 및 파일 구조\n",
    "```\n",
    "animals/(폴더)\n",
    "├── __init__.py\n",
    "├── mammals.py\n",
    "└── birds.py\n",
    "```\n"
   ]
  },
  {
   "cell_type": "code",
   "execution_count": null,
   "metadata": {},
   "outputs": [],
   "source": [
    "from .mammals import Cat\n",
    "from .birds import Eagle\n",
    "\n",
    "__all__ = ['Cat', 'Eagle']\n",
    "\n",
    "from animals import Cat, Eagle\n",
    "\n",
    "cat = Cat(\"야옹이\", \"야옹\")\n",
    "eagle = Eagle(\"한화\", \"이글이글스\")\n",
    "\n",
    "print(cat).cry())\n",
    "print(eagle.joke())"
   ]
  },
  {
   "cell_type": "code",
   "execution_count": null,
   "metadata": {},
   "outputs": [],
   "source": [
    "class Cat:\n",
    "    def __init__(self, name, meow):\n",
    "        self.name = name\n",
    "    def cry(self)\n",
    "        retun f\"{self.name}는 {self.meow}하고 울어요!\""
   ]
  },
  {
   "cell_type": "code",
   "execution_count": null,
   "metadata": {},
   "outputs": [],
   "source": [
    "class Eagle:\n",
    "    def __init__(self, name, eegle):\n",
    "        self.name = name\n",
    "    def joke(self)\n",
    "        retun f\"{self.name}는 {self.eegle}이글거려요!\""
   ]
  },
  {
   "cell_type": "markdown",
   "metadata": {},
   "source": [
    "---"
   ]
  }
 ],
 "metadata": {
  "kernelspec": {
   "display_name": "Python 3",
   "language": "python",
   "name": "python3"
  },
  "language_info": {
   "name": "python",
   "version": "3.11.9"
  }
 },
 "nbformat": 4,
 "nbformat_minor": 2
}
